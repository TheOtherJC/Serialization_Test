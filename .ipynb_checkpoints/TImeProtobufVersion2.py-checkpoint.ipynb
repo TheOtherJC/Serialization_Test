{
 "cells": [
  {
   "cell_type": "code",
   "execution_count": 165,
   "metadata": {},
   "outputs": [
    {
     "name": "stdout",
     "output_type": "stream",
     "text": [
      "write: 1.5378578540112358\n",
      "read:  1.7716376519965706\n",
      "writeRead:  0.8262529720086604\n"
     ]
    }
   ],
   "source": [
    "import pickle\n",
    "import timeit\n",
    "from test_pb2 import BunchOfTestDicts, TestDict, Pair\n",
    "\n",
    "def writePB():\n",
    "    bOTD = BunchOfTestDicts()\n",
    "    for thisDict in realStuff:\n",
    "        tD = bOTD.dicts.add()\n",
    "        for k, v in thisDict.items():\n",
    "            pair = tD.pairs.add()\n",
    "            pair.key = k\n",
    "            pair.value = v\n",
    "            \n",
    "    #with open('realstuff.pb', 'wb') as f:\n",
    "        #f.write(bOTD.SerializeToString())\n",
    "\n",
    "        \n",
    "def writeReadPB():\n",
    "    bOTD = BunchOfTestDicts()\n",
    "    for thisDict in realStuff:\n",
    "        tD = bOTD.dicts.add()\n",
    "    with open('realstuff.pb', 'rb') as f:\n",
    "        bOTD.ParseFromString(f.read())\n",
    "        for line in f:\n",
    "            thisDictList = [{thisPair.key: thisPair.value\n",
    "                             for thisPair in thisBufferedDict.pairs}\n",
    "                    for thisBufferedDict in bOTD.dicts]\n",
    "            return thisDictList\n",
    "\n",
    "\n",
    "def readPB():\n",
    "    bOTD = BunchOfTestDicts()\n",
    "    with open('realstuff.pb', 'rb') as f:\n",
    "        bOTD.ParseFromString(f.read())\n",
    "    thisDictList = [{thisPair.key: thisPair.value\n",
    "                             for thisPair in thisBufferedDict.pairs}\n",
    "                    for thisBufferedDict in bOTD.dicts]\n",
    "    return thisDictList\n",
    "\n",
    "with open('realstuff.pkl', 'rb') as f:\n",
    "    realStuff = pickle.load(f)\n",
    "\n",
    "setupStatement=\"\"\"\\\n",
    "from __main__ import writePB, readPB, writeReadPB, realStuff\n",
    "\"\"\"\n",
    "\n",
    "\n",
    "print ('write: %s' % timeit.timeit(\"writePB()\", setup=setupStatement, number=1))\n",
    "print ('read:  %s' % timeit.timeit(\"readPB()\", setup=setupStatement, number=1))\n",
    "print ('writeRead:  %s' % timeit.timeit(\"writeReadPB()\", setup=setupStatement, number=1))\n"
   ]
  }
 ],
 "metadata": {
  "kernelspec": {
   "display_name": "Python 3",
   "language": "python",
   "name": "python3"
  },
  "language_info": {
   "codemirror_mode": {
    "name": "ipython",
    "version": 3
   },
   "file_extension": ".py",
   "mimetype": "text/x-python",
   "name": "python",
   "nbconvert_exporter": "python",
   "pygments_lexer": "ipython3",
   "version": "3.5.2"
  }
 },
 "nbformat": 4,
 "nbformat_minor": 2
}
