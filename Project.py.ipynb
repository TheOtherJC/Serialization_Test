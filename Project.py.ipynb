{
 "cells": [
  {
   "cell_type": "markdown",
   "metadata": {
    "slideshow": {
     "slide_type": "slide"
    }
   },
   "source": [
    "# Serialization\n",
    "by: Joseph Armstrong"
   ]
  },
  {
   "cell_type": "markdown",
   "metadata": {
    "slideshow": {
     "slide_type": "slide"
    }
   },
   "source": [
    "# Unit Testing\n",
    "Sometimes referred to as \"PyUnit\", unit testing:\n",
    "* involves breaking your program into pieces, and subjecting each piece into a series of tests.\n",
    "    \n",
    "### Requirements\n",
    "\n",
    "``import unittest``\n",
    "\n",
    "### Advantages\n",
    "* provides documentation of a system\n",
    "* simplifies the debugging process\n",
    "* allows you to know exactly WHEN of the code fails not just IF it does\n",
    "\n",
    "### Strategies\n",
    "***Statement Testing*** - A test strategy in which each statement of a program is executed at least once."
   ]
  },
  {
   "cell_type": "code",
   "execution_count": null,
   "metadata": {
    "collapsed": true,
    "slideshow": {
     "slide_type": "skip"
    }
   },
   "outputs": [],
   "source": [
    "def my_contains(elem, lst):\n",
    "    \"\"\"(object, list) -> bool\n",
    "    \n",
    "    Return True if and only if elem is in lst.\n",
    "    \"\"\"\n",
    "    return elem in lst\n",
    "\n",
    "def my_first(lst):\n",
    "    \"\"\" (list) -> object\n",
    "\n",
    "    Return the first element in lst.\n",
    "    \"\"\"\n",
    "    return lst[0]"
   ]
  },
  {
   "cell_type": "code",
   "execution_count": null,
   "metadata": {
    "collapsed": true,
    "slideshow": {
     "slide_type": "subslide"
    }
   },
   "outputs": [],
   "source": [
    "def my_contains(elem, lst):\n",
    "    return elem in lst\n",
    "\n",
    "def my_first(lst):\n",
    "    return lst[0]\n",
    "\n",
    "----------------------------------------------------------------------\n",
    "python unittest_basic.py\n",
    "----------------------------------------------------------------------\n",
    "\n",
    "from myfunctions import my_contains, my_first\n",
    "import unittest\n",
    "\n",
    "class TestMyFunctions(unittest.TestCase):\n",
    "    def test_contains_simple_true(self):\n",
    "        self.assertTrue(my_contains(3, [1, 2, 3]))\n",
    "\n",
    "    def test_first_numbers(self):\n",
    "        self.assertEqual(my_first([1, 2, 3]), 1)\n",
    "\n",
    "    def test_first_empty(self):\n",
    "        self.assertRaises(IndexError, my_first, [])\n",
    "\n",
    "if __name__ == \"__main__\":\n",
    "    unittest.main(exit = False)\n"
   ]
  },
  {
   "cell_type": "code",
   "execution_count": null,
   "metadata": {
    "collapsed": true,
    "slideshow": {
     "slide_type": "fragment"
    }
   },
   "outputs": [],
   "source": [
    "...\n",
    "----------------------------------------------------------------------\n",
    "Ran 3 tests in 0.000s\n",
    "\n",
    "OK"
   ]
  },
  {
   "cell_type": "markdown",
   "metadata": {
    "collapsed": true,
    "slideshow": {
     "slide_type": "slide"
    }
   },
   "source": [
    "# Performance Profiling\n",
    "\n",
    "A profile is a set of statistics that describes how often and how long various parts of the program executed.\n",
    "\n",
    "### Requirements\n",
    "\n",
    "python -m cProfile *filename*\n",
    "\n",
    "### Advantages\n",
    "Allows the code to be broken apart to see exactly where the code is the slowest part, which gives the code structure."
   ]
  },
  {
   "cell_type": "code",
   "execution_count": 12,
   "metadata": {
    "slideshow": {
     "slide_type": "subslide"
    }
   },
   "outputs": [
    {
     "name": "stdout",
     "output_type": "stream",
     "text": [
      "hello world\n",
      "('my rank is', 0)\n"
     ]
    }
   ],
   "source": [
    "mpirun -np 2 python example.py\n",
    "\n",
    "----------------------------------------------------------------------\n",
    "\n",
    "from mpi4py import MPI\n",
    "\n",
    "comm = MPI.COMM_WORLD\n",
    "name=MPI.Get_processor_name()\n",
    "\n",
    "print(\"hello world\")\n",
    "print((\"my rank is\",comm.rank))"
   ]
  },
  {
   "cell_type": "code",
   "execution_count": null,
   "metadata": {
    "collapsed": true,
    "slideshow": {
     "slide_type": "fragment"
    }
   },
   "outputs": [],
   "source": [
    "python -m cProfile example.py\n",
    "\n",
    "----------------------------------------------------------------------\n",
    "\n",
    "7 function calls in 0.059 seconds\n",
    "\n",
    "   Ordered by: standard name\n",
    "\n",
    "   ncalls  tottime  percall  cumtime  percall filename:lineno(function)\n",
    "        1    0.000    0.000    0.000    0.000 <string>:1(<module>)\n",
    "        1    0.000    0.000    0.000    0.000 __init__.py:25(<module>)\n",
    "        1    0.000    0.000    0.000    0.000 atexit.py:6(<module>)\n",
    "        1    0.059    0.059    0.059    0.059 example.py:1(<module>)\n",
    "        1    0.000    0.000    0.000    0.000 {hasattr}\n",
    "        1    0.000    0.000    0.000    0.000 {method 'disable' of '_lsprof.Profiler' objects}\n",
    "        1    0.000    0.000    0.000    0.000 {mpi4py.MPI.Get_processor_name}\n"
   ]
  },
  {
   "cell_type": "markdown",
   "metadata": {
    "slideshow": {
     "slide_type": "subslide"
    }
   },
   "source": [
    "***ncalls*** - for the number of calls\n",
    "\n",
    "***tottime*** - for the total time spent in the given function (and excluding time made in calls to sub-functions)\n",
    "\n",
    "***percall*** - is the quotient of tottime divided by ncalls\n",
    "\n",
    "***cumtime*** -is the cumulative time spent in this and all subfunctions (from invocation till exit). This figure is accurate even for recursive functions.\n",
    "\n",
    "***percall*** - is the quotient of cumtime divided by primitive calls\n",
    "\n",
    "***filename: lineno(function)*** - provides the respective data of each function"
   ]
  },
  {
   "cell_type": "markdown",
   "metadata": {
    "collapsed": true,
    "slideshow": {
     "slide_type": "slide"
    }
   },
   "source": [
    "# Distributed Computing\n",
    "\n",
    "A distributed system is a collection of independent computers, interconnected via a network, capable of collaborating on a task\n",
    "\n",
    "### Advantages:\n",
    "* By using the combined processing and storage capacity of many nodes, performance levels can be reached that are out of the scope of centralised machines\n",
    "* Resources such as processing and storage capacity of can increase incrementally\n",
    "\n",
    "### Challenges\n",
    "* There are differences that apply to: hardware, network, OS, programming languages, and implementations by different developers\n",
    "* Tackling the complexity of a distributed system which was designed by a different person"
   ]
  },
  {
   "cell_type": "markdown",
   "metadata": {
    "slideshow": {
     "slide_type": "slide"
    }
   },
   "source": [
    "# Object Serialization\n",
    "\n",
    "### Protobuf\n",
    "* Protobuf doesn't deal with schema evolution which would cause most to assume it would be more efficient, yet is the least efficient out of the three choices.\n",
    "    \n",
    "### Pickle\n",
    "* Pickle serialize the object first before writing it to a file, which seems to very useful for what we're trying to do.\n",
    "   \n",
    "### MsgPack \n",
    "* Msgpack can distinguish string and binary type, yet it doesn't work well with Python 2 which could be a hindrance. However it does produce the shortest string length and is the quickest out the three."
   ]
  },
  {
   "cell_type": "code",
   "execution_count": 19,
   "metadata": {
    "slideshow": {
     "slide_type": "subslide"
    }
   },
   "outputs": [
    {
     "name": "stdout",
     "output_type": "stream",
     "text": [
      "writeRead: 26.319947958\n"
     ]
    }
   ],
   "source": [
    "import cPickle\n",
    "import msgpack\n",
    "import timeit\n",
    "from test_pb2 import BunchOfTestDicts, TestDict, Pair\n",
    "\n",
    "def writeReadPB():\n",
    "    bOTD = BunchOfTestDicts()\n",
    "    for thisDict in realStuff:\n",
    "        tD = bOTD.dicts.add()\n",
    "        for k, v in thisDict.items():\n",
    "            pair = tD.pairs.add()\n",
    "            pair.key = k\n",
    "            pair.value = v\n",
    "    newBOTD = bOTD\n",
    "    thisDictList = [{thisPair.key: thisPair.value\n",
    "                             for thisPair in thisBufferedDict.pairs}\n",
    "                    for thisBufferedDict in newBOTD.dicts]\n",
    "    return thisDictList\n",
    "\n",
    "\n",
    "with open('realstuff.pkl', 'r') as f:\n",
    "    realStuff = cPickle.load(f)\n",
    "\n",
    "setupStatement=\"\"\"\\\n",
    "from __main__ import writeReadPB, realStuff\n",
    "\"\"\"\n",
    "\n",
    "print 'writeRead: %s' % timeit.timeit(\"writeReadPB()\", setup=setupStatement, number=10)"
   ]
  },
  {
   "cell_type": "code",
   "execution_count": 19,
   "metadata": {
    "slideshow": {
     "slide_type": "subslide"
    }
   },
   "outputs": [
    {
     "name": "stdout",
     "output_type": "stream",
     "text": [
      "writeRead:  2.80171298981\n"
     ]
    }
   ],
   "source": [
    "def writeReadPkl():\n",
    "    serializedPkl = cPickle.dumps(realStuff, protocol=2)\n",
    "    #print ('pickle string length: %s'%len(serializedPkl))\n",
    "    rslt = cPickle.loads(serializedPkl)\n",
    "    return rslt\n",
    "\n",
    "setupStatement=\"\"\"\\\n",
    "from __main__ import writeReadPkl, realStuff\n",
    "\"\"\"\n",
    "\n",
    "print 'writeRead:  %s' % timeit.timeit(\"writeReadPkl()\", setup=setupStatement, number=10)"
   ]
  },
  {
   "cell_type": "code",
   "execution_count": 21,
   "metadata": {
    "scrolled": true,
    "slideshow": {
     "slide_type": "subslide"
    }
   },
   "outputs": [
    {
     "name": "stdout",
     "output_type": "stream",
     "text": [
      "writeRead:  2.12104797363\n"
     ]
    }
   ],
   "source": [
    "def writeReadMSG():\n",
    "    serializedMSG = msgpack.dumps(realStuff)\n",
    "    #print ('MsgPack length: %s'%len(serializedMSG))\n",
    "    rslt = msgpack.loads(serializedMSG)\n",
    "    return rslt\n",
    "\n",
    "setupStatement=\"\"\"\\\n",
    "from __main__ import writeReadMSG\n",
    "\"\"\"\n",
    "\n",
    "print 'writeRead:  %s' % timeit.timeit(\"writeReadMSG()\", setup=setupStatement, number=10)"
   ]
  },
  {
   "cell_type": "markdown",
   "metadata": {
    "slideshow": {
     "slide_type": "slide"
    }
   },
   "source": [
    "# MPI4PY (MPI for Python)\n",
    "## MPI stands for Message Passing interface\n",
    "\n",
    "* MPI lets you rank processors, and send and receive messages/data from various nodes in the cluster\n",
    "* MPI also allows the program to be parallely executed with messages between nodes"
   ]
  },
  {
   "cell_type": "code",
   "execution_count": null,
   "metadata": {
    "collapsed": true,
    "slideshow": {
     "slide_type": "subslide"
    }
   },
   "outputs": [],
   "source": [
    "import numpy as np\n",
    "from mpi4py import MPI\n",
    "import pickle\n",
    "import timeit\n",
    "import msgpack\n",
    "import sys\n",
    "\n",
    "with open('realstuff.pkl', 'rb') as f:\n",
    "    realStuff = pickle.load(f)\n",
    "\n",
    "def writeReadMSG():\n",
    "    serializedMSG = msgpack.dumps(realStuff)\n",
    "    rslt = msgpack.loads(serializedMSG)\n",
    "    return rslt\n",
    "\n",
    "comm = MPI.COMM_WORLD\n",
    "name = MPI.Get_processor_name()\n",
    "size = comm.Get_size()\n",
    "rank = comm.Get_rank()\n",
    "\n",
    "start = MPI.Wtime()\n",
    "\n",
    "if rank == 0:\n",
    "    data = writeReadMSG()\n",
    "    comm.send(data, dest = 1)\n",
    "    print (\"From rank\", rank, \"we sent:\", len(data))\n",
    "\n",
    "elif rank == 1:\n",
    "    data = comm.recv(source = 0)\n",
    "    print (\"on node\", rank, \"we received:\", len(data))\n",
    "\n",
    "end = MPI.Wtime()\n",
    "print (end - start)"
   ]
  },
  {
   "cell_type": "code",
   "execution_count": null,
   "metadata": {
    "collapsed": true,
    "slideshow": {
     "slide_type": "subslide"
    }
   },
   "outputs": [],
   "source": [
    "('From rank', 0, 'we sent:', 100000)\n",
    "0.332388162613\n",
    "('on node', 1, 'we received:', 100000)\n",
    "0.25637793541"
   ]
  },
  {
   "cell_type": "markdown",
   "metadata": {
    "slideshow": {
     "slide_type": "slide"
    }
   },
   "source": [
    "# Acknowledgements\n",
    "* Eli Zenkov\n",
    "* Jay DePasse\n",
    "* Shawn Brown\n",
    "* Leila Haidari\n",
    "* Joel Welling\n",
    "* Jenn Bakal\n",
    "* Jim Leonard\n",
    "* Dave Kapcin"
   ]
  }
 ],
 "metadata": {
  "celltoolbar": "Slideshow",
  "kernelspec": {
   "display_name": "Python 2",
   "language": "python",
   "name": "python2"
  },
  "language_info": {
   "codemirror_mode": {
    "name": "ipython",
    "version": 2
   },
   "file_extension": ".py",
   "mimetype": "text/x-python",
   "name": "python",
   "nbconvert_exporter": "python",
   "pygments_lexer": "ipython2",
   "version": "2.7.12"
  }
 },
 "nbformat": 4,
 "nbformat_minor": 2
}
