{
 "cells": [
  {
   "cell_type": "code",
   "execution_count": 2,
   "metadata": {},
   "outputs": [
    {
     "name": "stdout",
     "output_type": "stream",
     "text": [
      "write: 1.4435002629907103\n",
      "read:  1.5846788589988137\n",
      "writeRead:  0.7757572940026876\n"
     ]
    }
   ],
   "source": [
    "import pickle\n",
    "import timeit\n",
    "from test_pb2 import BunchOfTestDicts, TestDict, Pair\n",
    "\n",
    "def writePB():\n",
    "    bOTD = BunchOfTestDicts()\n",
    "    for thisDict in realStuff:\n",
    "        tD = bOTD.dicts.add()\n",
    "        for k, v in thisDict.items():\n",
    "            pair = tD.pairs.add()\n",
    "            pair.key = k\n",
    "            pair.value = v\n",
    "            \n",
    "    #with open('realstuff.pb', 'wb') as f:\n",
    "        #f.write(bOTD.SerializeToString())\n",
    "\n",
    "        \n",
    "def writeReadPB():\n",
    "    bOTD = BunchOfTestDicts()\n",
    "    for thisDict in realStuff:\n",
    "        tD = bOTD.dicts.add()\n",
    "    with open('realstuff.pb', 'rb') as f:\n",
    "        bOTD.ParseFromString(f.read())\n",
    "        for line in f:\n",
    "            thisDictList = [{thisPair.key: thisPair.value\n",
    "                             for thisPair in thisBufferedDict.pairs}\n",
    "                    for thisBufferedDict in bOTD.dicts]\n",
    "            return thisDictList\n",
    "\n",
    "\n",
    "def readPB():\n",
    "    bOTD = BunchOfTestDicts()\n",
    "    with open('realstuff.pb', 'rb') as f:\n",
    "        bOTD.ParseFromString(f.read())\n",
    "    thisDictList = [{thisPair.key: thisPair.value\n",
    "                             for thisPair in thisBufferedDict.pairs}\n",
    "                    for thisBufferedDict in bOTD.dicts]\n",
    "    return thisDictList\n",
    "\n",
    "with open('realstuff.pkl', 'rb') as f:\n",
    "    realStuff = pickle.load(f)\n",
    "\n",
    "setupStatement=\"\"\"\\\n",
    "from __main__ import writePB, readPB, writeReadPB, realStuff\n",
    "\"\"\"\n",
    "\n",
    "\n",
    "print ('write: %s' % timeit.timeit(\"writePB()\", setup=setupStatement, number=1))\n",
    "print ('read:  %s' % timeit.timeit(\"readPB()\", setup=setupStatement, number=1))\n",
    "print ('writeRead:  %s' % timeit.timeit(\"writeReadPB()\", setup=setupStatement, number=1))\n"
   ]
  },
  {
   "cell_type": "code",
   "execution_count": 3,
   "metadata": {},
   "outputs": [
    {
     "ename": "SyntaxError",
     "evalue": "invalid syntax (<ipython-input-3-84dac27c8883>, line 2)",
     "output_type": "error",
     "traceback": [
      "\u001b[0;36m  File \u001b[0;32m\"<ipython-input-3-84dac27c8883>\"\u001b[0;36m, line \u001b[0;32m2\u001b[0m\n\u001b[0;31m    package test;\u001b[0m\n\u001b[0m               ^\u001b[0m\n\u001b[0;31mSyntaxError\u001b[0m\u001b[0;31m:\u001b[0m invalid syntax\n"
     ]
    }
   ],
   "source": [
    "syntax = \"proto2\";\n",
    "package test;\n",
    "message Pair {\n",
    "\toptional int32 key = 1;\n",
    "\toptional string value = 2;\n",
    "};\n",
    "message TestDict {\n",
    "\trepeated Pair pairs = 1;\n",
    "};\n",
    "message BunchOfTestDicts {\n",
    "\trepeated TestDict dicts = 1;\n",
    "};\n"
   ]
  }
 ],
 "metadata": {
  "kernelspec": {
   "display_name": "Python 3",
   "language": "python",
   "name": "python3"
  },
  "language_info": {
   "codemirror_mode": {
    "name": "ipython",
    "version": 3
   },
   "file_extension": ".py",
   "mimetype": "text/x-python",
   "name": "python",
   "nbconvert_exporter": "python",
   "pygments_lexer": "ipython3",
   "version": "3.5.2"
  }
 },
 "nbformat": 4,
 "nbformat_minor": 2
}
