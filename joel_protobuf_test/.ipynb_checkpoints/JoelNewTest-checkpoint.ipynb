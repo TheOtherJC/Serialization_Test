{
 "cells": [
  {
   "cell_type": "markdown",
   "metadata": {},
   "source": [
    "#"
   ]
  },
  {
   "cell_type": "code",
   "execution_count": 64,
   "metadata": {},
   "outputs": [
    {
     "name": "stdout",
     "output_type": "stream",
     "text": [
      "writeRead:  21.96629358899918\n"
     ]
    }
   ],
   "source": [
    "#! /usr/bin/env python\n",
    "\n",
    "import pickle\n",
    "import timeit\n",
    "import msgpack\n",
    "import sys\n",
    "from test_pb2 import BunchOfTestDicts, TestDict, Pair\n",
    "\n",
    "def writePB():\n",
    "    bOTD = BunchOfTestDicts()\n",
    "    for thisDict in realStuff:\n",
    "        tD = bOTD.dicts.add()\n",
    "        for k, v in thisDict.items():\n",
    "            pair = tD.pairs.add()\n",
    "            pair.key = k\n",
    "            pair.value = v\n",
    "\n",
    "    with open('realstuff.pb', 'wb') as f:\n",
    "        f.write(bOTD.SerializeToString())\n",
    "\n",
    "def readPB():\n",
    "    bOTD = BunchOfTestDicts()\n",
    "    with open('realstuff.pb', 'rb') as f:\n",
    "        bOTD.ParseFromString(f.read())\n",
    "    thisDictList = [{thisPair.key: thisPair.value\n",
    "                             for thisPair in thisBufferedDict.pairs}\n",
    "                    for thisBufferedDict in bOTD.dicts]\n",
    "    return thisDictList\n",
    "\n",
    "def writeReadPB():\n",
    "    bOTD = BunchOfTestDicts()\n",
    "    for thisDict in realStuff:\n",
    "        tD = bOTD.dicts.add()\n",
    "        for k, v in thisDict.items():\n",
    "            pair = tD.pairs.add()\n",
    "            pair.key = k\n",
    "            pair.value = v\n",
    "    #serializedPB = bOTD.SerializeToString()\n",
    "    #print 'serialized PB length: %s'%len(serializedPB)\n",
    "    #newBOTD = BunchOfTestDicts()\n",
    "    #newBOTD.ParseFromString(serializedPB)\n",
    "    newBOTD = bOTD\n",
    "    thisDictList = [{thisPair.key: thisPair.value\n",
    "                             for thisPair in thisBufferedDict.pairs}\n",
    "                    for thisBufferedDict in newBOTD.dicts]\n",
    "    return thisDictList\n",
    "\n",
    "\n",
    "with open('realstuff.pkl', 'rb') as f:\n",
    "    realStuff = pickle.load(f)\n",
    "\n",
    "setupStatement=\"\"\"\\\n",
    "from __main__ import writePB, readPB, writeReadPB, realStuff\n",
    "\"\"\"\n",
    "\n",
    "#print ('write: %s' % timeit.timeit(\"writePB()\", setup=setupStatement, number=1))\n",
    "#print ('read:  %s' % timeit.timeit(\"readPB()\", setup=setupStatement, number=1))\n",
    "print ('writeRead:  %s' % timeit.timeit(\"writeReadPB()\", setup=setupStatement, number=10))\n"
   ]
  },
  {
   "cell_type": "markdown",
   "metadata": {},
   "source": [
    "#"
   ]
  },
  {
   "cell_type": "code",
   "execution_count": 61,
   "metadata": {},
   "outputs": [
    {
     "name": "stdout",
     "output_type": "stream",
     "text": [
      "syntax = \"proto2\";\n",
      "package test;\n",
      "message Pair {\n",
      "\toptional int32 key = 1;\n",
      "\toptional string value = 2;\n",
      "};\n",
      "message TestDict {\n",
      "\trepeated Pair pairs = 1;\n",
      "};\n",
      "message BunchOfTestDicts {\n",
      "\trepeated TestDict dicts = 1;\n",
      "};\n",
      "\n"
     ]
    }
   ],
   "source": [
    "with open('test.proto', 'r') as f:\n",
    "    for line in f:\n",
    "        print (line[:-1])"
   ]
  },
  {
   "cell_type": "markdown",
   "metadata": {},
   "source": [
    "#"
   ]
  },
  {
   "cell_type": "code",
   "execution_count": 62,
   "metadata": {},
   "outputs": [
    {
     "name": "stdout",
     "output_type": "stream",
     "text": [
      "pickle string length: 26798577\n",
      "pickle string length: 26798577\n",
      "pickle string length: 26798577\n",
      "pickle string length: 26798577\n",
      "pickle string length: 26798577\n",
      "pickle string length: 26798577\n",
      "pickle string length: 26798577\n",
      "pickle string length: 26798577\n",
      "pickle string length: 26798577\n",
      "pickle string length: 26798577\n",
      "writeRead:  4.359616682000706\n"
     ]
    }
   ],
   "source": [
    "def writeReadPkl():\n",
    "    serializedPkl = pickle.dumps(realStuff, protocol=2)\n",
    "    print ('pickle string length: %s'%len(serializedPkl))\n",
    "    rslt = pickle.loads(serializedPkl)\n",
    "    return rslt\n",
    "\n",
    "setupStatement=\"\"\"\\\n",
    "from __main__ import writeReadPkl, realStuff\n",
    "\"\"\"\n",
    "\n",
    "print ('writeRead:  %s' % timeit.timeit(\"writeReadPkl()\", setup=setupStatement, number=10))\n",
    "\n"
   ]
  },
  {
   "cell_type": "markdown",
   "metadata": {},
   "source": [
    "#"
   ]
  },
  {
   "cell_type": "code",
   "execution_count": 63,
   "metadata": {},
   "outputs": [
    {
     "name": "stdout",
     "output_type": "stream",
     "text": [
      "MsgPack length: 16099141\n",
      "MsgPack length: 16099141\n",
      "MsgPack length: 16099141\n",
      "MsgPack length: 16099141\n",
      "MsgPack length: 16099141\n",
      "MsgPack length: 16099141\n",
      "MsgPack length: 16099141\n",
      "MsgPack length: 16099141\n",
      "MsgPack length: 16099141\n",
      "MsgPack length: 16099141\n",
      "writeRead:  3.6610381939990475\n"
     ]
    }
   ],
   "source": [
    "def writeReadMSG():\n",
    "    serializedMSG = msgpack.dumps(realStuff)\n",
    "    print ('MsgPack length: %s'%len(serializedMSG))\n",
    "    rslt = msgpack.loads(serializedMSG)\n",
    "    return rslt\n",
    "\n",
    "setupStatement=\"\"\"\\\n",
    "from __main__ import writeReadMSG\n",
    "\"\"\"\n",
    "\n",
    "print ('writeRead:  %s' % timeit.timeit(\"writeReadMSG()\", setup=setupStatement, number=10))\n"
   ]
  },
  {
   "cell_type": "code",
   "execution_count": 72,
   "metadata": {},
   "outputs": [
    {
     "ename": "ImportError",
     "evalue": "No module named 'mpi4py'",
     "output_type": "error",
     "traceback": [
      "\u001b[0;31m---------------------------------------------------------------------------\u001b[0m",
      "\u001b[0;31mImportError\u001b[0m                               Traceback (most recent call last)",
      "\u001b[0;32m<ipython-input-72-55bd3a805f40>\u001b[0m in \u001b[0;36m<module>\u001b[0;34m()\u001b[0m\n\u001b[0;32m----> 1\u001b[0;31m \u001b[0;32mfrom\u001b[0m \u001b[0mmpi4py\u001b[0m \u001b[0;32mimport\u001b[0m \u001b[0mMPI\u001b[0m\u001b[0;34m\u001b[0m\u001b[0m\n\u001b[0m\u001b[1;32m      2\u001b[0m \u001b[0;34m\u001b[0m\u001b[0m\n\u001b[1;32m      3\u001b[0m \u001b[0mcomm\u001b[0m \u001b[0;34m=\u001b[0m \u001b[0mMPI\u001b[0m\u001b[0;34m.\u001b[0m\u001b[0mCOMM_WORLD\u001b[0m\u001b[0;34m\u001b[0m\u001b[0m\n\u001b[1;32m      4\u001b[0m \u001b[0mrank\u001b[0m \u001b[0;34m=\u001b[0m \u001b[0mcomm\u001b[0m\u001b[0;34m.\u001b[0m\u001b[0mGet_rank\u001b[0m\u001b[0;34m(\u001b[0m\u001b[0;34m)\u001b[0m\u001b[0;34m\u001b[0m\u001b[0m\n\u001b[1;32m      5\u001b[0m \u001b[0;34m\u001b[0m\u001b[0m\n",
      "\u001b[0;31mImportError\u001b[0m: No module named 'mpi4py'"
     ]
    }
   ],
   "source": [
    "from mpi4py import MPI\n",
    "\n",
    "comm = MPI.COMM_WORLD\n",
    "rank = comm.Get_rank()\n",
    "\n",
    "if rank == 0:\n",
    "   data = {'a': 7, 'b': 3.14}\n",
    "   comm.send(data, dest=1, tag=11)\n",
    "elif rank == 1:\n",
    "   data = comm.recv(source=0, tag=11)"
   ]
  },
  {
   "cell_type": "code",
   "execution_count": null,
   "metadata": {
    "collapsed": true
   },
   "outputs": [],
   "source": []
  }
 ],
 "metadata": {
  "kernelspec": {
   "display_name": "Python 3",
   "language": "python",
   "name": "python3"
  },
  "language_info": {
   "codemirror_mode": {
    "name": "ipython",
    "version": 3
   },
   "file_extension": ".py",
   "mimetype": "text/x-python",
   "name": "python",
   "nbconvert_exporter": "python",
   "pygments_lexer": "ipython3",
   "version": "3.5.2"
  }
 },
 "nbformat": 4,
 "nbformat_minor": 1
}
